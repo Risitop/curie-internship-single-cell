{
 "cells": [
  {
   "cell_type": "code",
   "execution_count": null,
   "metadata": {},
   "outputs": [],
   "source": [
    "import numpy as np\n",
    "import pandas as pd\n",
    "import scanpy as sc\n",
    "%pylab inline\n",
    "\n",
    "sc.settings.verbosity = 3             # verbosity: errors (0), warnings (1), info (2), hints (3)\n",
    "sc.logging.print_versions()"
   ]
  },
  {
   "cell_type": "code",
   "execution_count": null,
   "metadata": {},
   "outputs": [],
   "source": [
    "sc.settings.set_figure_params(dpi=80)"
   ]
  },
  {
   "cell_type": "code",
   "execution_count": null,
   "metadata": {},
   "outputs": [],
   "source": [
    "pdxs = (184, 352, 471, 856, 857, 861, 1057, 1058)\n",
    "for pdx in pdxs:\n",
    "    adata = sc.read('../../python/autoannotate_ics/results/pdx%s_ufa.h5ad' % str(pdx), cache=True)\n",
    "    sc.pp.neighbors(adata, n_neighbors=10, n_pcs=40)\n",
    "    sc.tl.louvain(adata)\n",
    "    sc.tl.umap(adata)\n",
    "    sc.pl.umap(adata, color=adata.obs.columns, save='pdx%s_dca.png' % str(pdx))"
   ]
  },
  {
   "cell_type": "code",
   "execution_count": null,
   "metadata": {},
   "outputs": [],
   "source": [
    "# Do some global pictures to highlight similar structures, and also before/after DCA"
   ]
  }
 ],
 "metadata": {
  "kernelspec": {
   "display_name": "Python 3",
   "language": "python",
   "name": "python3"
  },
  "language_info": {
   "codemirror_mode": {
    "name": "ipython",
    "version": 3
   },
   "file_extension": ".py",
   "mimetype": "text/x-python",
   "name": "python",
   "nbconvert_exporter": "python",
   "pygments_lexer": "ipython3",
   "version": "3.7.3"
  }
 },
 "nbformat": 4,
 "nbformat_minor": 2
}
