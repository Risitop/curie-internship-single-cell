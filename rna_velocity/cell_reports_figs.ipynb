{
 "cells": [
  {
   "cell_type": "code",
   "execution_count": null,
   "metadata": {},
   "outputs": [],
   "source": [
    "import scanpy as sc\n",
    "import scvelo as sv\n",
    "import loompy as lp\n",
    "import pandas as pd\n",
    "%pylab inline"
   ]
  },
  {
   "cell_type": "code",
   "execution_count": null,
   "metadata": {},
   "outputs": [],
   "source": [
    "sv.settings.figdir = 'figs_cell_report/'"
   ]
  },
  {
   "cell_type": "markdown",
   "metadata": {},
   "source": [
    "# Preprocessing"
   ]
  },
  {
   "cell_type": "code",
   "execution_count": null,
   "metadata": {},
   "outputs": [],
   "source": [
    "adata = sv.read_loom('6_files.loom')\n",
    "adata.var_names_make_unique()"
   ]
  },
  {
   "cell_type": "code",
   "execution_count": null,
   "metadata": {},
   "outputs": [],
   "source": [
    "adata.obs_names = [s.split(':')[1].split('.')[0] for s in adata.obs_names]"
   ]
  },
  {
   "cell_type": "code",
   "execution_count": null,
   "metadata": {},
   "outputs": [],
   "source": [
    "# run this cell to ignore results from the first experiment\n",
    "adata = adata[invert(adata.obs_names.str.startswith( ('A172', 'A257') ) ),:]\n",
    "adata"
   ]
  },
  {
   "cell_type": "code",
   "execution_count": null,
   "metadata": {},
   "outputs": [],
   "source": [
    "# Loads the corrected reads file\n",
    "gene_scores = pd.read_csv('../../data/aggregated_1964_log.txt_filtered.txt', sep='\\t', index_col=0).T"
   ]
  },
  {
   "cell_type": "code",
   "execution_count": null,
   "metadata": {},
   "outputs": [],
   "source": [
    "# Manually corrects A267T1 -> A267T01\n",
    "def correct(s):\n",
    "    if s[:5] == 'A267T' and len(s) == 6:\n",
    "        return s[:5] + '0' + s[5]\n",
    "    return s\n",
    "adata.obs_names = [correct(name) for name in adata.obs_names]"
   ]
  },
  {
   "cell_type": "code",
   "execution_count": null,
   "metadata": {},
   "outputs": [],
   "source": [
    "gene_scores = gene_scores.loc[adata.obs_names]\n",
    "gene_scores = gene_scores[gene_scores.columns[isin(gene_scores.columns, adata.var_names)]]"
   ]
  },
  {
   "cell_type": "code",
   "execution_count": null,
   "metadata": {},
   "outputs": [],
   "source": [
    "gene_scores.shape"
   ]
  },
  {
   "cell_type": "code",
   "execution_count": null,
   "metadata": {},
   "outputs": [],
   "source": [
    "adata.X = np.log(adata.X.A + 1)"
   ]
  },
  {
   "cell_type": "code",
   "execution_count": null,
   "metadata": {},
   "outputs": [],
   "source": [
    "adata[:,gene_scores.columns] = gene_scores"
   ]
  },
  {
   "cell_type": "code",
   "execution_count": null,
   "metadata": {},
   "outputs": [],
   "source": [
    "sc.pp.filter_genes(adata, min_cells=1)\n",
    "sc.pp.filter_cells(adata, min_genes=1)\n",
    "adata"
   ]
  },
  {
   "cell_type": "code",
   "execution_count": null,
   "metadata": {},
   "outputs": [],
   "source": [
    "# Loads the description files, for days\n",
    "dct_day = {}\n",
    "with open('../../data/sample_description/A172.sampleDescription.txt') as f_in:\n",
    "    for line in f_in:\n",
    "        line = line.split('|')\n",
    "        dct_day[line[0]] = line[1].split('_')[1]\n",
    "with open('../../data/sample_description/A257.sampleDescription.txt') as f_in:\n",
    "    for line in f_in:\n",
    "        line = line.split('|')\n",
    "        dct_day[line[0]] = line[1].split('_')[1]\n",
    "with open('../../data/sample_description/sample_annotation_comb.txt') as f_in:\n",
    "    for line in f_in:\n",
    "        line = line.split('\\t')\n",
    "        dct_day[line[0]] = 'day' + line[-1]    "
   ]
  },
  {
   "cell_type": "code",
   "execution_count": null,
   "metadata": {},
   "outputs": [],
   "source": [
    "# Makes day nomenclature homogeneous\n",
    "\n",
    "for i in range(1, 10):\n",
    "    dct_day['A172T0%i' % i] = dct_day['A172T%i' % i]\n",
    "    dct_day['A267T%i' % i] = dct_day['A267T0%i' % i]\n",
    "\n",
    "col_day = array([dct_day.get(name, 'na') for name in adata.obs_names])\n",
    "col_day[col_day == 'day0'] = 'day00'\n",
    "col_day[col_day == 'DAY7'] = 'day07'\n",
    "col_day[col_day == 'day7'] = 'day07'\n",
    "col_day[col_day == 'day7\\n'] = 'day07'\n",
    "col_day[col_day == 'DAY7+2'] = 'day09'\n",
    "col_day[col_day == 'day9\\n'] = 'day09'\n",
    "col_day[col_day == 'DAY7+3'] = 'day10'\n",
    "col_day[col_day == 'day10\\n'] = 'day10'\n",
    "col_day[col_day == 'DAY7+4'] = 'day11'\n",
    "col_day[col_day == 'day11\\n'] = 'day11'\n",
    "col_day[col_day == 'day14\\n'] = 'day14'\n",
    "col_day[col_day == 'day17\\n'] = 'day17'\n",
    "col_day[col_day == 'day22\\n'] = 'day22'\n",
    "adata = adata[col_day != 'na',:]\n",
    "col_day = col_day[col_day != 'na']\n",
    "adata.obs['day'] = col_day"
   ]
  },
  {
   "cell_type": "markdown",
   "metadata": {},
   "source": [
    "# Signature scores computation\n",
    "\n",
    "## EWSR1-FLI-1 related"
   ]
  },
  {
   "cell_type": "code",
   "execution_count": null,
   "metadata": {},
   "outputs": [],
   "source": [
    "# Loads the ICs file\n",
    "groups = {}\n",
    "with open('../../data/ics_and_signatures.gmt') as f_in:\n",
    "    for line in f_in:\n",
    "        elems = line[:-1].split('\\t')\n",
    "        groups[elems[0]] = elems[2:]"
   ]
  },
  {
   "cell_type": "code",
   "execution_count": null,
   "metadata": {},
   "outputs": [],
   "source": [
    "genes_ef1 = [\n",
    "    g[:-3] for g in groups['EF1_DIRECT_CONFIRMED']\n",
    "    if g[-3:] == '[1]'\n",
    "]\n",
    "genes_ef1 = [g for g in genes_ef1 if g in gene_scores.columns]\n",
    "len(genes_ef1)"
   ]
  },
  {
   "cell_type": "code",
   "execution_count": null,
   "metadata": {},
   "outputs": [],
   "source": [
    "to_exclude = ['KIF14', 'AURKA', 'AURKB']\n",
    "most_var = np.var(gene_scores[genes_ef1], axis=0).sort_values()[:-3]\n",
    "gene_scores_ef1 = gene_scores[most_var.index].T\n",
    "n_ef1 = len(most_var)"
   ]
  },
  {
   "cell_type": "code",
   "execution_count": null,
   "metadata": {},
   "outputs": [],
   "source": [
    "for day in sorted(set(adata.obs['day'])):\n",
    "    c_names = adata.obs_names[adata.obs['day'] == day]\n",
    "    gene_scores_ef1[day] = gene_scores_ef1[c_names].mean(1)"
   ]
  },
  {
   "cell_type": "code",
   "execution_count": null,
   "metadata": {
    "scrolled": false
   },
   "outputs": [],
   "source": [
    "figure(figsize=(20,25))\n",
    "days = list(sorted(set(adata.obs['day'])))\n",
    "for i, gene in enumerate(gene_scores_ef1.index):\n",
    "    subplot(5,4,i+1)\n",
    "    x = [gene_scores_ef1[adata.obs_names[adata.obs['day'] == day]].loc[gene] for day in days]\n",
    "    boxplot(x)\n",
    "    xticks(1 + arange(7), days)\n",
    "    title(gene)"
   ]
  },
  {
   "cell_type": "code",
   "execution_count": null,
   "metadata": {},
   "outputs": [],
   "source": [
    "ef1_genes = gene_scores_ef1.index[gene_scores_ef1['day22'] - gene_scores_ef1['day11'] > 1]\n",
    "ef1_genes"
   ]
  },
  {
   "cell_type": "code",
   "execution_count": null,
   "metadata": {},
   "outputs": [],
   "source": [
    "gene_scores['ic10plus'] = gene_scores[ef1_genes].mean(1)\n",
    "adata.obs['ic10plus'] = gene_scores['ic10plus']"
   ]
  },
  {
   "cell_type": "markdown",
   "metadata": {},
   "source": [
    "## Cell cycle related"
   ]
  },
  {
   "cell_type": "code",
   "execution_count": null,
   "metadata": {},
   "outputs": [],
   "source": [
    "genes_g1s = [\n",
    "    g for g in groups['G1_S_CHECKPOINT']\n",
    "]\n",
    "genes_g1s = [g for g in genes_g1s if g in gene_scores.columns]\n",
    "most_var = np.var(gene_scores[genes_g1s], axis=0).sort_values()[:-3]\n",
    "gene_scores_g1s = gene_scores[most_var.index].T\n",
    "g1s_genes = most_var.index[-5:]\n",
    "gene_scores['g1s'] = gene_scores[g1s_genes].mean(1)\n",
    "adata.obs['g1s'] = gene_scores['g1s']"
   ]
  },
  {
   "cell_type": "code",
   "execution_count": null,
   "metadata": {},
   "outputs": [],
   "source": [
    "genes_g2m = [\n",
    "    g for g in groups['G2_M_CHECKPOINT']\n",
    "]\n",
    "genes_g2m = [g for g in genes_g2m if g in gene_scores.columns]\n",
    "most_var = np.var(gene_scores[genes_g2m], axis=0).sort_values()[:-3]\n",
    "gene_scores_g2m = gene_scores[most_var.index].T\n",
    "g2m_genes = most_var.index[-5:]\n",
    "gene_scores['g2m'] = gene_scores[g2m_genes].mean(1)\n",
    "adata.obs['g2m'] = gene_scores['g2m']"
   ]
  },
  {
   "cell_type": "code",
   "execution_count": null,
   "metadata": {},
   "outputs": [],
   "source": [
    "adata.obs['cellcycle'] = .5*adata.obs['g1s'] + .5*adata.obs['g2m']"
   ]
  },
  {
   "cell_type": "markdown",
   "metadata": {},
   "source": [
    "## ICs"
   ]
  },
  {
   "cell_type": "code",
   "execution_count": null,
   "metadata": {},
   "outputs": [],
   "source": [
    "# Sort genes by variance\n",
    "ord_vars = adata.var_names[np.argsort(np.var(adata.X, axis=0))]\n",
    "\n",
    "N = 2000 # N to keep\n",
    "IC_genes = {\n",
    "    gr: list(filter(lambda gene: gene in ord_vars[-N:], groups[gr]))\n",
    "    for gr in filter(lambda s: s[:2] == 'IC', groups.keys())\n",
    "}"
   ]
  },
  {
   "cell_type": "code",
   "execution_count": null,
   "metadata": {},
   "outputs": [],
   "source": [
    "for gr in IC_genes:\n",
    "    adata.obs[gr] = np.mean(adata[:,IC_genes[gr]].X, axis=1)"
   ]
  },
  {
   "cell_type": "markdown",
   "metadata": {},
   "source": [
    "# RNA velocity"
   ]
  },
  {
   "cell_type": "code",
   "execution_count": null,
   "metadata": {},
   "outputs": [],
   "source": [
    "# Preprocess adata for umap & velocity\n",
    "sv.pp.filter_and_normalize(adata)\n",
    "sv.pp.moments(adata)\n",
    "sv.tl.velocity(adata, mode='stochastic')\n",
    "sv.tl.velocity_graph(adata)\n",
    "sc.pp.neighbors(adata)\n",
    "sc.tl.umap(adata)\n",
    "sv.tl.velocity_embedding(adata, basis='umap')"
   ]
  },
  {
   "cell_type": "code",
   "execution_count": null,
   "metadata": {},
   "outputs": [],
   "source": [
    "# just chooses a nice palette\n",
    "adata.uns['day_colors'] = [\n",
    "    \"#03fdff\",\n",
    "    \"#04cff4\",\n",
    "    \"#00b4ef\",\n",
    "    \"#0ca2ff\",\n",
    "    \"#0960fe\",\n",
    "    \"#0042f5\",\n",
    "    \"#0603a9\"\n",
    "]"
   ]
  },
  {
   "cell_type": "code",
   "execution_count": null,
   "metadata": {},
   "outputs": [],
   "source": [
    "# Custom colormap\n",
    "\n",
    "from matplotlib.colors import LinearSegmentedColormap\n",
    "\n",
    "cdict = {'red':   [[0.0,  0.2, 0.2],\n",
    "                   [0.3,  0.2, 0.2],\n",
    "                   [0.9,  1.0, 1.0],\n",
    "                   [1.0,  1.0, 1.0]],\n",
    "         'green': [[0.0,  0.2, 0.2],\n",
    "                   [1.0,  0.2, 0.2]],\n",
    "         'blue':  [[0.0,  1.0, 1.0],\n",
    "                   [0.1,  1.0, 1.0],\n",
    "                   [0.7,  0.2, 0.2],\n",
    "                   [1.0,  0.2, 0.2]]}\n",
    "\n",
    "cmp_rbg = LinearSegmentedColormap(name='my_RBG', segmentdata=cdict, N=256)\n",
    "\n",
    "def plot_linearmap(cdict):\n",
    "    newcmp = LinearSegmentedColormap('testCmap', segmentdata=cdict, N=256)\n",
    "    rgba = newcmp(np.linspace(0, 1, 256))\n",
    "    fig, ax = plt.subplots(figsize=(4, 3), constrained_layout=True)\n",
    "    col = ['r', 'g', 'b']\n",
    "    for xx in [0.25, 0.5, 0.75]:\n",
    "        ax.axvline(xx, color='0.7', linestyle='--')\n",
    "    for i in range(3):\n",
    "        ax.plot(np.arange(256)/256, rgba[:, i], color=col[i])\n",
    "    ax.set_xlabel('index')\n",
    "    ax.set_ylabel('RGB')\n",
    "    plt.show()\n",
    "plot_linearmap(cdict)"
   ]
  },
  {
   "cell_type": "code",
   "execution_count": null,
   "metadata": {
    "scrolled": false
   },
   "outputs": [],
   "source": [
    "sv.settings.set_figure_params(dpi=150)\n",
    "ax = sv.pl.velocity_embedding(adata, basis='umap', color='day', legend_loc='on data', alpha=.7, frameon=True, size=150,\n",
    "                         title='', xlabel='', ylabel='', legend_fontsize=14, arrow_length=2, save='all_days.pdf',\n",
    "                        edgecolors='black', linewidth=.3, show=True)"
   ]
  },
  {
   "cell_type": "code",
   "execution_count": null,
   "metadata": {
    "scrolled": false
   },
   "outputs": [],
   "source": [
    "sv.settings.set_figure_params(dpi=150)\n",
    "sv.pl.velocity_embedding(adata, basis='umap', color='ic10plus', legend_loc='upper right', alpha=.9, frameon=True, size=150,\n",
    "                         title='', xlabel='', ylabel='', legend_fontsize=14, arrow_length=2, save='ef1_score.pdf', color_map=cmp_rbg,\n",
    "                        linewidth=.3)\n",
    "sv.pl.velocity_embedding(adata, basis='umap', color='cellcycle', legend_loc='upper right', alpha=.9, frameon=True, size=150,\n",
    "                         title='', xlabel='', ylabel='', legend_fontsize=14, arrow_length=2, save='cc_score.pdf', color_map=cmp_rbg,\n",
    "                        linewidth=.3)"
   ]
  },
  {
   "cell_type": "markdown",
   "metadata": {},
   "source": [
    "## ICs"
   ]
  },
  {
   "cell_type": "code",
   "execution_count": null,
   "metadata": {},
   "outputs": [],
   "source": [
    "for gr in IC_genes:\n",
    "    sv.pl.velocity_embedding(adata, basis='umap', color=gr, legend_loc='upper right', alpha=.9, frameon=True, size=150,\n",
    "                         title='', xlabel='', ylabel='', legend_fontsize=14, arrow_length=2, save='cc_ic_%s.pdf' % gr, color_map=cmp_rbg,\n",
    "                        linewidth=.3)"
   ]
  },
  {
   "cell_type": "markdown",
   "metadata": {},
   "source": [
    "## Magnitude colouring"
   ]
  },
  {
   "cell_type": "code",
   "execution_count": null,
   "metadata": {},
   "outputs": [],
   "source": [
    "adata.obs['vel_mag'] = np.sqrt(np.sum(adata.layers['velocity']**2, axis=1))"
   ]
  },
  {
   "cell_type": "code",
   "execution_count": null,
   "metadata": {},
   "outputs": [],
   "source": [
    "sv.pl.velocity_embedding(adata, basis='umap', color='vel_mag', legend_loc='upper right', alpha=.9, frameon=True, size=150,\n",
    "                         title='', xlabel='', ylabel='', legend_fontsize=14, arrow_length=2, save='vel_mag.pdf', color_map=cmp_rbg,\n",
    "                        linewidth=.3)"
   ]
  },
  {
   "cell_type": "code",
   "execution_count": null,
   "metadata": {},
   "outputs": [],
   "source": [
    "adata.layers['velocity'].shape"
   ]
  },
  {
   "cell_type": "code",
   "execution_count": null,
   "metadata": {},
   "outputs": [],
   "source": []
  }
 ],
 "metadata": {
  "kernelspec": {
   "display_name": "Python 3",
   "language": "python",
   "name": "python3"
  },
  "language_info": {
   "codemirror_mode": {
    "name": "ipython",
    "version": 3
   },
   "file_extension": ".py",
   "mimetype": "text/x-python",
   "name": "python",
   "nbconvert_exporter": "python",
   "pygments_lexer": "ipython3",
   "version": "3.7.3"
  }
 },
 "nbformat": 4,
 "nbformat_minor": 2
}
