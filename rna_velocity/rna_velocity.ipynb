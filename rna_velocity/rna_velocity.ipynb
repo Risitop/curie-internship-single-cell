{
 "cells": [
  {
   "cell_type": "code",
   "execution_count": null,
   "metadata": {},
   "outputs": [],
   "source": [
    "import scanpy as sc\n",
    "import scvelo as sv\n",
    "import loompy as lp\n",
    "import pandas as pd\n",
    "%pylab inline"
   ]
  },
  {
   "cell_type": "markdown",
   "metadata": {},
   "source": [
    "# Plots of the presentation"
   ]
  },
  {
   "cell_type": "code",
   "execution_count": null,
   "metadata": {},
   "outputs": [],
   "source": [
    "adata = sv.read_loom('6_files.loom')\n",
    "adata.var_names_make_unique()"
   ]
  },
  {
   "cell_type": "code",
   "execution_count": null,
   "metadata": {},
   "outputs": [],
   "source": [
    "adata.obs_names = [s[5:].split('.')[0] for s in adata.obs_names]"
   ]
  },
  {
   "cell_type": "code",
   "execution_count": null,
   "metadata": {},
   "outputs": [],
   "source": [
    "# run this cell to ignore results from the first experiment\n",
    "adata = adata[invert(adata.obs_names.str.startswith( ('A172', 'A257') ) ),:]\n",
    "adata"
   ]
  },
  {
   "cell_type": "code",
   "execution_count": null,
   "metadata": {},
   "outputs": [],
   "source": [
    "# Loads the description files, for days\n",
    "dct_day = {}\n",
    "with open('../../data/sample_description/A172.sampleDescription.txt') as f_in:\n",
    "    for line in f_in:\n",
    "        line = line.split('|')\n",
    "        dct_day[line[0]] = line[1].split('_')[1]\n",
    "with open('../../data/sample_description/A257.sampleDescription.txt') as f_in:\n",
    "    for line in f_in:\n",
    "        line = line.split('|')\n",
    "        dct_day[line[0]] = line[1].split('_')[1]\n",
    "with open('../../data/sample_description/sample_annotation_comb.txt') as f_in:\n",
    "    for line in f_in:\n",
    "        line = line.split('\\t')\n",
    "        dct_day[line[0]] = 'day' + line[-1]    "
   ]
  },
  {
   "cell_type": "code",
   "execution_count": null,
   "metadata": {},
   "outputs": [],
   "source": [
    "# Makes day nomenclature homogeneous\n",
    "\n",
    "for i in range(1, 10):\n",
    "    dct_day['A172T0%i' % i] = dct_day['A172T%i' % i]\n",
    "    dct_day['A267T%i' % i] = dct_day['A267T0%i' % i]\n",
    "\n",
    "adata.obs['day'] = 'na'\n",
    "adata.obs['day'] = [dct_day.get(name, 'na') for name in adata.obs_names]\n",
    "days = adata.obs['day']\n",
    "adata.obs = adata.obs.copy()\n",
    "adata.obs['day'][days == 'day0'] = 'day00'\n",
    "adata.obs['day'][days == 'DAY7'] = 'day07'\n",
    "adata.obs['day'][days == 'day7'] = 'day07'\n",
    "adata.obs['day'][days == 'day7\\n'] = 'day07'\n",
    "adata.obs['day'][days == 'DAY7+2'] = 'day09'\n",
    "adata.obs['day'][days == 'day9\\n'] = 'day09'\n",
    "adata.obs['day'][days == 'DAY7+3'] = 'day10'\n",
    "adata.obs['day'][days == 'day10\\n'] = 'day10'\n",
    "adata.obs['day'][days == 'DAY7+4'] = 'day11'\n",
    "adata.obs['day'][days == 'day11\\n'] = 'day11'\n",
    "adata.obs['day'][days == 'day14\\n'] = 'day14'\n",
    "adata.obs['day'][days == 'day17\\n'] = 'day17'\n",
    "adata.obs['day'][days == 'day22\\n'] = 'day22'\n",
    "adata = adata[adata.obs['day'] != 'na',:]"
   ]
  },
  {
   "cell_type": "code",
   "execution_count": null,
   "metadata": {},
   "outputs": [],
   "source": [
    "# Loads the ICs file\n",
    "ics = pd.read_csv('../../data/scores/ASP14_TS_ul_centered.txt_filtered.txt.moduleAverages', sep='\\t')\n",
    "for i in range(1,10):\n",
    "    ics['SAMPLE'][i-1] = 'A267T%i' % i"
   ]
  },
  {
   "cell_type": "code",
   "execution_count": null,
   "metadata": {},
   "outputs": [],
   "source": [
    "# Annotates adata with the ICs\n",
    "# Careful, this discards the two first experiments!\n",
    "thr = 0\n",
    "ics = ics.sort_values(by='SAMPLE')\n",
    "adata = adata[ics['SAMPLE'],:]\n",
    "for key in ('IC1+', 'IC2+', 'IC10+', 'IC30+'):\n",
    "    vals = ics[key].values - thr\n",
    "    vals[vals < 0] = 0\n",
    "    adata.obs[key] = vals\n",
    "adata.obs['IC1-IC2'] = adata.obs['IC1+'] - adata.obs['IC2+']\n",
    "adata.obs['IC1+IC2'] = adata.obs['IC1+'] + adata.obs['IC2+']"
   ]
  },
  {
   "cell_type": "code",
   "execution_count": null,
   "metadata": {},
   "outputs": [],
   "source": [
    "# Preprocess adata for umap & velocity\n",
    "sv.pp.filter_and_normalize(adata)\n",
    "sv.pp.moments(adata)\n",
    "sv.tl.velocity(adata, mode='stochastic')\n",
    "sv.tl.velocity_graph(adata)\n",
    "sc.pp.neighbors(adata)\n",
    "sc.tl.umap(adata)\n",
    "sv.tl.velocity_embedding(adata, basis='umap')"
   ]
  },
  {
   "cell_type": "code",
   "execution_count": null,
   "metadata": {},
   "outputs": [],
   "source": [
    "# just chooses a nice palette\n",
    "adata.uns['day_colors'] = [matplotlib.colors.to_hex(c) for c in matplotlib.cm.cool(arange(8)/8)]"
   ]
  },
  {
   "cell_type": "code",
   "execution_count": null,
   "metadata": {},
   "outputs": [],
   "source": [
    "sc.settings.set_figure_params(dpi=200)\n",
    "sc.pl.umap(adata, color='day', size=32, save='global_umap.png')"
   ]
  },
  {
   "cell_type": "code",
   "execution_count": null,
   "metadata": {},
   "outputs": [],
   "source": [
    "# Displays day by day\n",
    "sv.settings.set_figure_params(dpi=300)\n",
    "to_disp = []\n",
    "for day in sorted(set(adata.obs['day'])):\n",
    "    to_disp.append(day)\n",
    "    print(to_disp)\n",
    "    sv.pl.velocity_embedding(adata[isin(adata.obs['day'], to_disp),:], basis='umap', color='day', legend_loc='lower left', alpha=.7, frameon=True,\n",
    "                         title='RNA velocity of cells at different times', legend_fontsize=7, arrow_length=2, save='%s.png' % day)"
   ]
  },
  {
   "cell_type": "code",
   "execution_count": null,
   "metadata": {
    "scrolled": false
   },
   "outputs": [],
   "source": [
    "sv.settings.set_figure_params(dpi=300)\n",
    "sv.pl.velocity_embedding(adata, basis='umap', color='day', legend_loc='upper right', alpha=.7, frameon=True,\n",
    "                         title='RNA velocity of cells at different times', legend_fontsize=7, arrow_length=2, save='all_days.png')\n",
    "sv.pl.velocity_embedding(adata, basis='umap', color='IC1+IC2', legend_loc='on data', alpha=.7, frameon=True,\n",
    "                         title='RNA velocity of cells at different times (color: IC1+IC2)', legend_fontsize=7, arrow_length=2, save='all_plus.png')\n",
    "sv.pl.velocity_embedding(adata, basis='umap', color='IC1-IC2', legend_loc='on data', alpha=.7, frameon=True,\n",
    "                         title='RNA velocity of cells at different times (color: IC1-IC2)', legend_fontsize=7, arrow_length=2, save='all_minus.png')"
   ]
  },
  {
   "cell_type": "code",
   "execution_count": null,
   "metadata": {},
   "outputs": [],
   "source": [
    "# Here, plots are done without day 7.\n",
    "adata_no7 = adata[adata.obs['day'] != 'day07',:]\n",
    "sv.pp.filter_and_normalize(adata_no7)\n",
    "sv.pp.moments(adata_no7)\n",
    "sv.tl.velocity(adata_no7, mode='stochastic')\n",
    "sv.tl.velocity_graph(adata_no7)\n",
    "sc.pp.neighbors(adata_no7)\n",
    "sc.tl.umap(adata_no7)\n",
    "sc.tl.louvain(adata_no7)\n",
    "sv.tl.velocity_embedding(adata_no7, basis='umap')"
   ]
  },
  {
   "cell_type": "code",
   "execution_count": null,
   "metadata": {
    "scrolled": false
   },
   "outputs": [],
   "source": [
    "sv.settings.set_figure_params(dpi=300)\n",
    "sv.pl.velocity_embedding(adata_no7, basis='umap', color='day', legend_loc='upper right', alpha=.7, frameon=True,\n",
    "                         title='RNA velocity of cells at different times', legend_fontsize=7, arrow_length=2, save='no7_days.png')\n",
    "sv.pl.velocity_embedding(adata_no7, basis='umap', color='IC1+IC2', legend_loc='on data', alpha=.7, frameon=True,\n",
    "                         title='RNA velocity of cells at different times (color: IC1+IC2)', legend_fontsize=7, arrow_length=2, save='no7_plus.png')\n",
    "sv.pl.velocity_embedding(adata_no7, basis='umap', color='IC1-IC2', legend_loc='on data', alpha=.7, frameon=True,\n",
    "                         title='RNA velocity of cells at different times (color: IC1-IC2)', legend_fontsize=7, arrow_length=2, save='no7_minus.png')\n",
    "sv.pl.velocity_embedding(adata_no7, basis='umap', color='IC10+', legend_loc='on data', alpha=.7, frameon=True,\n",
    "                         title='RNA velocity of cells at different times (color: IC10)', legend_fontsize=7, arrow_length=2, save='no7_ic10.png')\n",
    "sv.pl.velocity_embedding(adata_no7, basis='umap', color='louvain', legend_loc='upper right', alpha=.7, frameon=True, palette='?',\n",
    "                         title='RNA velocity of cells at different times', legend_fontsize=7, arrow_length=2, save='no7_louvain.png')"
   ]
  },
  {
   "cell_type": "markdown",
   "metadata": {},
   "source": [
    "# Experimental below"
   ]
  },
  {
   "cell_type": "code",
   "execution_count": null,
   "metadata": {
    "scrolled": true
   },
   "outputs": [],
   "source": [
    "sel = (adata_no7.obs['louvain'] == '0') + (adata_no7.obs['louvain'] == '3')\n",
    "adata_mys = adata_no7[sel,:]\n",
    "adata_mys"
   ]
  },
  {
   "cell_type": "code",
   "execution_count": null,
   "metadata": {},
   "outputs": [],
   "source": [
    "len(sums)"
   ]
  },
  {
   "cell_type": "code",
   "execution_count": null,
   "metadata": {
    "scrolled": true
   },
   "outputs": [],
   "source": [
    "sums = np.argsort(np.sum(abs(adata_no7.layers['velocity']), axis=0))\n",
    "sums_f = np.argsort(np.sum(abs(adata.layers['velocity']), axis=0))\n",
    "\n",
    "N = 200\n",
    "mys_genes = [ adata_mys.var_names[sums[len(sums) - i - 1]] for i in range(N) ]\n",
    "all_genes = [ adata.var_names[sums_f[len(sums) - i - 1]] for i in range(int(N/4)) ]\n",
    "\n",
    "def complementary(l,m): return [g for g in l if g not in m]\n",
    "\n",
    "exc_genes = complementary(mys_genes, all_genes)\n",
    "for g in mys_genes:\n",
    "    print(g)"
   ]
  },
  {
   "cell_type": "code",
   "execution_count": null,
   "metadata": {},
   "outputs": [],
   "source": [
    "len(exc_genes)"
   ]
  },
  {
   "cell_type": "code",
   "execution_count": null,
   "metadata": {},
   "outputs": [],
   "source": [
    "all_genes"
   ]
  },
  {
   "cell_type": "code",
   "execution_count": null,
   "metadata": {},
   "outputs": [],
   "source": [
    "adata.layers['velocity'].shape"
   ]
  },
  {
   "cell_type": "code",
   "execution_count": null,
   "metadata": {},
   "outputs": [],
   "source": [
    "sv.pl.velocity_embedding_stream(adata, basis='umap', color='day', legend_loc='on data', \n",
    "                         title='RNA velocity of cells at different times', legend_fontsize=7)"
   ]
  },
  {
   "cell_type": "code",
   "execution_count": null,
   "metadata": {},
   "outputs": [],
   "source": [
    "sv.pl.velocity_embedding(adata, basis='umap', color='day', save='all.png')"
   ]
  },
  {
   "cell_type": "code",
   "execution_count": null,
   "metadata": {
    "scrolled": false
   },
   "outputs": [],
   "source": [
    "sv.settings.set_figure_params(dpi=400)\n",
    "for _adata in adatas:\n",
    "    sv.pp.filter_and_normalize(_adata)\n",
    "    sv.pp.moments(_adata)\n",
    "    sv.tl.velocity(_adata, mode='stochastic')\n",
    "    sv.tl.velocity_graph(_adata)\n",
    "    sc.pp.neighbors(_adata)\n",
    "    sc.tl.umap(_adata)\n",
    "    sv.tl.velocity_embedding(_adata, basis='umap')\n",
    "    sv.pl.velocity_embedding_stream(_adata, basis='umap', color='day')"
   ]
  },
  {
   "cell_type": "code",
   "execution_count": null,
   "metadata": {},
   "outputs": [],
   "source": []
  },
  {
   "cell_type": "code",
   "execution_count": null,
   "metadata": {},
   "outputs": [],
   "source": [
    "adata.write_loom('day0_11_ann.loom', write_obsm_varm=1)"
   ]
  },
  {
   "cell_type": "code",
   "execution_count": null,
   "metadata": {},
   "outputs": [],
   "source": [
    "to_keep = ['IC1+', 'IC2+', 'IC10+']\n",
    "ic_genes = {}\n",
    "with open('../../data/ics_and_signatures.gmt') as f_in:\n",
    "    for line in f_in:\n",
    "        line = line[:-1].split('\\t')\n",
    "        if line[0] in to_keep:\n",
    "            ic_genes[line[0]] = [g for g in line[2:] if g in adata.var_names]"
   ]
  },
  {
   "cell_type": "code",
   "execution_count": null,
   "metadata": {},
   "outputs": [],
   "source": [
    "adatas = []\n",
    "for ic in to_keep:\n",
    "    adatas.append(adata[:,ic_genes[ic]])\n",
    "adatas.append(adata[:,ic_genes['IC1+'] + ic_genes['IC2+']])"
   ]
  },
  {
   "cell_type": "code",
   "execution_count": null,
   "metadata": {},
   "outputs": [],
   "source": [
    "path = '../../data/loom/%s.loom'\n",
    "names = ['full', 'A267', 'A281', 'A295', 'A296']\n",
    "adata = lp.combine([(path % name) for name in names], '6_files.loom', key='Accession')\n",
    "adata"
   ]
  },
  {
   "cell_type": "code",
   "execution_count": null,
   "metadata": {},
   "outputs": [],
   "source": []
  }
 ],
 "metadata": {
  "kernelspec": {
   "display_name": "Python 3",
   "language": "python",
   "name": "python3"
  },
  "language_info": {
   "codemirror_mode": {
    "name": "ipython",
    "version": 3
   },
   "file_extension": ".py",
   "mimetype": "text/x-python",
   "name": "python",
   "nbconvert_exporter": "python",
   "pygments_lexer": "ipython3",
   "version": "3.7.3"
  }
 },
 "nbformat": 4,
 "nbformat_minor": 2
}
